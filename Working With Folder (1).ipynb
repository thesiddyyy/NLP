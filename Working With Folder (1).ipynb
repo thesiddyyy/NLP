{
 "cells": [
  {
   "cell_type": "code",
   "execution_count": 1,
   "id": "ce3123a4",
   "metadata": {},
   "outputs": [
    {
     "name": "stdout",
     "output_type": "stream",
     "text": [
      "Defaulting to user installation because normal site-packages is not writeable"
     ]
    },
    {
     "name": "stderr",
     "output_type": "stream",
     "text": [
      "DEPRECATION: Loading egg at c:\\programdata\\anaconda3\\lib\\site-packages\\vboxapi-1.0-py3.11.egg is deprecated. pip 23.3 will enforce this behaviour change. A possible replacement is to use pip for package installation..\n"
     ]
    },
    {
     "name": "stdout",
     "output_type": "stream",
     "text": [
      "\n",
      "Requirement already satisfied: PyPDF2 in c:\\users\\gratitude\\appdata\\roaming\\python\\python311\\site-packages (3.0.1)\n"
     ]
    }
   ],
   "source": [
    "!pip install PyPDF2"
   ]
  },
  {
   "cell_type": "code",
   "execution_count": 1,
   "id": "ac0cb979",
   "metadata": {},
   "outputs": [],
   "source": [
    "import PyPDF2"
   ]
  },
  {
   "cell_type": "code",
   "execution_count": 2,
   "id": "2b21d3bd",
   "metadata": {},
   "outputs": [],
   "source": [
    "pdf_path = r'C:\\Users\\Gratitude\\Downloads\\Important Question for End-term.pdf'"
   ]
  },
  {
   "cell_type": "code",
   "execution_count": 3,
   "id": "933cc624",
   "metadata": {},
   "outputs": [
    {
     "data": {
      "text/plain": [
       "<_io.BufferedReader name='C:\\\\Users\\\\Gratitude\\\\Downloads\\\\Important Question for End-term.pdf'>"
      ]
     },
     "execution_count": 3,
     "metadata": {},
     "output_type": "execute_result"
    }
   ],
   "source": [
    "f = open(pdf_path,'rb')\n",
    "f"
   ]
  },
  {
   "cell_type": "code",
   "execution_count": 4,
   "id": "297786af",
   "metadata": {},
   "outputs": [
    {
     "data": {
      "text/plain": [
       "<PyPDF2._reader.PdfReader at 0x1e8f29a14d0>"
      ]
     },
     "execution_count": 4,
     "metadata": {},
     "output_type": "execute_result"
    }
   ],
   "source": [
    "reader = PyPDF2.PdfReader(f)\n",
    "reader"
   ]
  },
  {
   "cell_type": "code",
   "execution_count": 5,
   "id": "489542fe",
   "metadata": {},
   "outputs": [
    {
     "data": {
      "text/plain": [
       "2"
      ]
     },
     "execution_count": 5,
     "metadata": {},
     "output_type": "execute_result"
    }
   ],
   "source": [
    "len(reader.pages)"
   ]
  },
  {
   "cell_type": "code",
   "execution_count": 6,
   "id": "a77fe9b0",
   "metadata": {},
   "outputs": [],
   "source": [
    "page_one = reader.pages[0]"
   ]
  },
  {
   "cell_type": "code",
   "execution_count": 7,
   "id": "dde383c4",
   "metadata": {},
   "outputs": [
    {
     "data": {
      "text/plain": [
       "'Important Question s for End -term  \\n1. What do you mean by Unsupervised learning?  \\n2. Explain the evaluation metrics f or regression  and classification  algorithms.  \\n3. Explain how does Bias-Variance tradeoff work s in Machine Learning models . \\n4. Consider a situation where you have 1000 fruits which are either ‘banana’ or ‘apple’ or ‘other’. \\nUse Naïve Bayes classifier  to predict if a given fruit is a ‘Banana’ or an ‘Apple’ or ‘Other’ when \\nthe three attributes: {long, sweet, yellow} are known as given in the table below:  \\n \\nType  Long  Not \\nLong  Sweet  Not \\nsweet  Yellow  Not \\nYellow  Total  \\nBanana  400 100 350 150 450 50 500 \\nApple  0 300 150 150 300 0 300 \\nOther  100 100 150 50 50 150 200 \\nTotal  500 500 650 350 800 200 1000  \\n \\n5. What do you understand by Clustering? What are its various types?  \\n6. Describe in detail the types of Regression models used in Machine Learning . \\n7. What are the different types of Classification techniques and its real -world applications?  \\n8. Using the k-Nearest Neighbours , classify the given target into the three species: {Setosa, \\nVirginia, and Versicolor} which belong to the Iris dataset. In this dataset, we have 3 attributes \\nwhich have sepal length, sepal width, and specie s. Species have a targ et attribute. The target \\nneeds to find the nearest species which belong from three species.  '"
      ]
     },
     "execution_count": 7,
     "metadata": {},
     "output_type": "execute_result"
    }
   ],
   "source": [
    "page_one_text = page_one.extract_text()\n",
    "page_one_text"
   ]
  },
  {
   "cell_type": "code",
   "execution_count": 8,
   "id": "3ae7036b",
   "metadata": {},
   "outputs": [],
   "source": [
    "f.close()"
   ]
  },
  {
   "cell_type": "code",
   "execution_count": 9,
   "id": "d6de95b8",
   "metadata": {},
   "outputs": [],
   "source": [
    "f = open(pdf_path,'rb')"
   ]
  },
  {
   "cell_type": "code",
   "execution_count": 10,
   "id": "550c4883",
   "metadata": {},
   "outputs": [],
   "source": [
    "pdf_text = []"
   ]
  },
  {
   "cell_type": "code",
   "execution_count": 11,
   "id": "84e82da3",
   "metadata": {},
   "outputs": [],
   "source": [
    "pdf_reader = PyPDF2.PdfReader(f)"
   ]
  },
  {
   "cell_type": "code",
   "execution_count": 12,
   "id": "859884fd",
   "metadata": {},
   "outputs": [],
   "source": [
    "for p in range(len(pdf_reader.pages)):\n",
    "    page = pdf_reader.pages[p]\n",
    "    pdf_text.append(page.extract_text())"
   ]
  },
  {
   "cell_type": "code",
   "execution_count": 13,
   "id": "c40c828a",
   "metadata": {},
   "outputs": [],
   "source": [
    "f.close()"
   ]
  },
  {
   "cell_type": "code",
   "execution_count": 14,
   "id": "f485b12c",
   "metadata": {},
   "outputs": [
    {
     "data": {
      "text/plain": [
       "['Important Question s for End -term  \\n1. What do you mean by Unsupervised learning?  \\n2. Explain the evaluation metrics f or regression  and classification  algorithms.  \\n3. Explain how does Bias-Variance tradeoff work s in Machine Learning models . \\n4. Consider a situation where you have 1000 fruits which are either ‘banana’ or ‘apple’ or ‘other’. \\nUse Naïve Bayes classifier  to predict if a given fruit is a ‘Banana’ or an ‘Apple’ or ‘Other’ when \\nthe three attributes: {long, sweet, yellow} are known as given in the table below:  \\n \\nType  Long  Not \\nLong  Sweet  Not \\nsweet  Yellow  Not \\nYellow  Total  \\nBanana  400 100 350 150 450 50 500 \\nApple  0 300 150 150 300 0 300 \\nOther  100 100 150 50 50 150 200 \\nTotal  500 500 650 350 800 200 1000  \\n \\n5. What do you understand by Clustering? What are its various types?  \\n6. Describe in detail the types of Regression models used in Machine Learning . \\n7. What are the different types of Classification techniques and its real -world applications?  \\n8. Using the k-Nearest Neighbours , classify the given target into the three species: {Setosa, \\nVirginia, and Versicolor} which belong to the Iris dataset. In this dataset, we have 3 attributes \\nwhich have sepal length, sepal width, and specie s. Species have a targ et attribute. The target \\nneeds to find the nearest species which belong from three species.  ',\n",
       " ' \\nTarget:  New flower found, need to classify “Unlabeled”. Feature of the new unlabeled flower:  \\n \\n9. What is the mathematical intuition behind Feature Scaling?  \\n10. How are Supervised and Unsupervised Learning different from each other?  \\n11. Explain in detail the Machine Learning algorithms with th eir ty pes and subtypes?  \\n12. How would you detect under fitting  and overfitti ng in ML Models?  \\n13. For a class of 20 students, apply the Decision trees algorithm to calculate the best possible split \\nwhere splitting crit eria h as to be calculated through Gini impurity & Information Gain based on \\nattributes: Performance={Above average (14), Below average ( 6)}; Class={IX (10), X (10)} to \\nclassify the students into category of playing cricket: {Yes/No}.  \\n14. Explain briefly the Support Vector Machines architecture for both Linear and Nonlinear cases.  \\n15. Describe in de tail the  difference between Linear R egression and Logistic Regression . \\n16. Describe the  feature scaling methods for normalization and standardization.  \\n17. Expla in the Association rules mining algorithms with mathem atical intuition.  \\n18. Given a function, , calculate kernel function,  \\nfor x^bar=(1,2), z^bar= (2,3). Also, prov e that  = (< x^bar, z^bar>)3. \\n']"
      ]
     },
     "execution_count": 14,
     "metadata": {},
     "output_type": "execute_result"
    }
   ],
   "source": [
    "pdf_text"
   ]
  },
  {
   "cell_type": "code",
   "execution_count": 15,
   "id": "35bac0ae",
   "metadata": {},
   "outputs": [
    {
     "data": {
      "text/plain": [
       "2"
      ]
     },
     "execution_count": 15,
     "metadata": {},
     "output_type": "execute_result"
    }
   ],
   "source": [
    "len(pdf_text)"
   ]
  },
  {
   "cell_type": "code",
   "execution_count": 16,
   "id": "55d6a428",
   "metadata": {},
   "outputs": [
    {
     "name": "stdout",
     "output_type": "stream",
     "text": [
      "Important Question s for End -term  \n",
      "1. What do you mean by Unsupervised learning?  \n",
      "2. Explain the evaluation metrics f or regression  and classification  algorithms.  \n",
      "3. Explain how does Bias-Variance tradeoff work s in Machine Learning models . \n",
      "4. Consider a situation where you have 1000 fruits which are either ‘banana’ or ‘apple’ or ‘other’. \n",
      "Use Naïve Bayes classifier  to predict if a given fruit is a ‘Banana’ or an ‘Apple’ or ‘Other’ when \n",
      "the three attributes: {long, sweet, yellow} are known as given in the table below:  \n",
      " \n",
      "Type  Long  Not \n",
      "Long  Sweet  Not \n",
      "sweet  Yellow  Not \n",
      "Yellow  Total  \n",
      "Banana  400 100 350 150 450 50 500 \n",
      "Apple  0 300 150 150 300 0 300 \n",
      "Other  100 100 150 50 50 150 200 \n",
      "Total  500 500 650 350 800 200 1000  \n",
      " \n",
      "5. What do you understand by Clustering? What are its various types?  \n",
      "6. Describe in detail the types of Regression models used in Machine Learning . \n",
      "7. What are the different types of Classification techniques and its real -world applications?  \n",
      "8. Using the k-Nearest Neighbours , classify the given target into the three species: {Setosa, \n",
      "Virginia, and Versicolor} which belong to the Iris dataset. In this dataset, we have 3 attributes \n",
      "which have sepal length, sepal width, and specie s. Species have a targ et attribute. The target \n",
      "needs to find the nearest species which belong from three species.  \n",
      "\n",
      "\n",
      "\n",
      "\n",
      " \n",
      "Target:  New flower found, need to classify “Unlabeled”. Feature of the new unlabeled flower:  \n",
      " \n",
      "9. What is the mathematical intuition behind Feature Scaling?  \n",
      "10. How are Supervised and Unsupervised Learning different from each other?  \n",
      "11. Explain in detail the Machine Learning algorithms with th eir ty pes and subtypes?  \n",
      "12. How would you detect under fitting  and overfitti ng in ML Models?  \n",
      "13. For a class of 20 students, apply the Decision trees algorithm to calculate the best possible split \n",
      "where splitting crit eria h as to be calculated through Gini impurity & Information Gain based on \n",
      "attributes: Performance={Above average (14), Below average ( 6)}; Class={IX (10), X (10)} to \n",
      "classify the students into category of playing cricket: {Yes/No}.  \n",
      "14. Explain briefly the Support Vector Machines architecture for both Linear and Nonlinear cases.  \n",
      "15. Describe in de tail the  difference between Linear R egression and Logistic Regression . \n",
      "16. Describe the  feature scaling methods for normalization and standardization.  \n",
      "17. Expla in the Association rules mining algorithms with mathem atical intuition.  \n",
      "18. Given a function, , calculate kernel function,  \n",
      "for x^bar=(1,2), z^bar= (2,3). Also, prov e that  = (< x^bar, z^bar>)3. \n",
      "\n",
      "\n",
      "\n",
      "\n",
      "\n"
     ]
    }
   ],
   "source": [
    "for page in pdf_text:\n",
    "    print(page)\n",
    "    print('\\n')\n",
    "    print('\\n')"
   ]
  },
  {
   "cell_type": "code",
   "execution_count": 17,
   "id": "a9a02915",
   "metadata": {},
   "outputs": [],
   "source": [
    "f = open(pdf_path,'rb')"
   ]
  },
  {
   "cell_type": "code",
   "execution_count": 18,
   "id": "b827a556",
   "metadata": {},
   "outputs": [],
   "source": [
    "pdf_reader = PyPDF2.PdfReader(f)"
   ]
  },
  {
   "cell_type": "markdown",
   "id": "bbf66364",
   "metadata": {},
   "source": [
    "# 18.09.2024"
   ]
  },
  {
   "cell_type": "code",
   "execution_count": 21,
   "id": "8cb5f313",
   "metadata": {},
   "outputs": [],
   "source": [
    "first_page = pdf_reader.pages[0]"
   ]
  },
  {
   "cell_type": "code",
   "execution_count": 22,
   "id": "7904a3a4",
   "metadata": {},
   "outputs": [],
   "source": [
    "pdf_writer = PyPDF2.PdfWriter()"
   ]
  },
  {
   "cell_type": "code",
   "execution_count": 23,
   "id": "9c650323",
   "metadata": {},
   "outputs": [
    {
     "data": {
      "text/plain": [
       "{'/Type': '/Page',\n",
       " '/Resources': {'/Font': {'/F1': {'/Type': '/Font',\n",
       "    '/Subtype': '/TrueType',\n",
       "    '/Name': '/F1',\n",
       "    '/BaseFont': '/TimesNewRomanPS-BoldMT',\n",
       "    '/Encoding': '/WinAnsiEncoding',\n",
       "    '/FontDescriptor': {'/Type': '/FontDescriptor',\n",
       "     '/FontName': '/TimesNewRomanPS-BoldMT',\n",
       "     '/Flags': 32,\n",
       "     '/ItalicAngle': 0,\n",
       "     '/Ascent': 891,\n",
       "     '/Descent': -216,\n",
       "     '/CapHeight': 677,\n",
       "     '/AvgWidth': 427,\n",
       "     '/MaxWidth': 2558,\n",
       "     '/FontWeight': 700,\n",
       "     '/XHeight': 250,\n",
       "     '/Leading': 42,\n",
       "     '/StemV': 42,\n",
       "     '/FontBBox': [-558, -216, 2000, 677]},\n",
       "    '/FirstChar': 32,\n",
       "    '/LastChar': 239,\n",
       "    '/Widths': [250,\n",
       "     0,\n",
       "     0,\n",
       "     0,\n",
       "     0,\n",
       "     0,\n",
       "     0,\n",
       "     0,\n",
       "     0,\n",
       "     0,\n",
       "     0,\n",
       "     0,\n",
       "     0,\n",
       "     333,\n",
       "     0,\n",
       "     0,\n",
       "     500,\n",
       "     500,\n",
       "     500,\n",
       "     500,\n",
       "     500,\n",
       "     500,\n",
       "     500,\n",
       "     0,\n",
       "     500,\n",
       "     0,\n",
       "     333,\n",
       "     0,\n",
       "     0,\n",
       "     0,\n",
       "     0,\n",
       "     0,\n",
       "     0,\n",
       "     722,\n",
       "     667,\n",
       "     0,\n",
       "     0,\n",
       "     667,\n",
       "     0,\n",
       "     0,\n",
       "     0,\n",
       "     389,\n",
       "     0,\n",
       "     0,\n",
       "     667,\n",
       "     0,\n",
       "     722,\n",
       "     778,\n",
       "     0,\n",
       "     778,\n",
       "     0,\n",
       "     556,\n",
       "     667,\n",
       "     0,\n",
       "     0,\n",
       "     0,\n",
       "     0,\n",
       "     722,\n",
       "     0,\n",
       "     0,\n",
       "     0,\n",
       "     0,\n",
       "     0,\n",
       "     0,\n",
       "     0,\n",
       "     500,\n",
       "     556,\n",
       "     444,\n",
       "     556,\n",
       "     444,\n",
       "     333,\n",
       "     500,\n",
       "     556,\n",
       "     278,\n",
       "     0,\n",
       "     556,\n",
       "     278,\n",
       "     833,\n",
       "     556,\n",
       "     500,\n",
       "     556,\n",
       "     0,\n",
       "     444,\n",
       "     389,\n",
       "     333,\n",
       "     556,\n",
       "     500,\n",
       "     722,\n",
       "     0,\n",
       "     500,\n",
       "     0,\n",
       "     0,\n",
       "     0,\n",
       "     0,\n",
       "     0,\n",
       "     0,\n",
       "     0,\n",
       "     0,\n",
       "     0,\n",
       "     0,\n",
       "     0,\n",
       "     0,\n",
       "     0,\n",
       "     0,\n",
       "     0,\n",
       "     0,\n",
       "     0,\n",
       "     0,\n",
       "     0,\n",
       "     0,\n",
       "     0,\n",
       "     0,\n",
       "     0,\n",
       "     0,\n",
       "     0,\n",
       "     0,\n",
       "     0,\n",
       "     0,\n",
       "     0,\n",
       "     0,\n",
       "     0,\n",
       "     0,\n",
       "     0,\n",
       "     0,\n",
       "     0,\n",
       "     0,\n",
       "     0,\n",
       "     0,\n",
       "     0,\n",
       "     0,\n",
       "     0,\n",
       "     0,\n",
       "     0,\n",
       "     0,\n",
       "     0,\n",
       "     0,\n",
       "     0,\n",
       "     0,\n",
       "     0,\n",
       "     0,\n",
       "     0,\n",
       "     0,\n",
       "     0,\n",
       "     0,\n",
       "     0,\n",
       "     0,\n",
       "     0,\n",
       "     0,\n",
       "     0,\n",
       "     0,\n",
       "     0,\n",
       "     0,\n",
       "     0,\n",
       "     0,\n",
       "     0,\n",
       "     0,\n",
       "     0,\n",
       "     0,\n",
       "     0,\n",
       "     0,\n",
       "     0,\n",
       "     0,\n",
       "     0,\n",
       "     0,\n",
       "     0,\n",
       "     0,\n",
       "     0,\n",
       "     0,\n",
       "     0,\n",
       "     0,\n",
       "     0,\n",
       "     0,\n",
       "     0,\n",
       "     0,\n",
       "     0,\n",
       "     0,\n",
       "     0,\n",
       "     0,\n",
       "     0,\n",
       "     0,\n",
       "     0,\n",
       "     0,\n",
       "     0,\n",
       "     0,\n",
       "     0,\n",
       "     0,\n",
       "     0,\n",
       "     0,\n",
       "     0,\n",
       "     0,\n",
       "     0,\n",
       "     0,\n",
       "     0,\n",
       "     0,\n",
       "     0,\n",
       "     0,\n",
       "     0,\n",
       "     0,\n",
       "     0,\n",
       "     0,\n",
       "     0,\n",
       "     0,\n",
       "     0,\n",
       "     0,\n",
       "     0,\n",
       "     0,\n",
       "     0,\n",
       "     278]},\n",
       "   '/F2': {'/Type': '/Font',\n",
       "    '/Subtype': '/TrueType',\n",
       "    '/Name': '/F2',\n",
       "    '/BaseFont': '/TimesNewRomanPSMT',\n",
       "    '/Encoding': '/WinAnsiEncoding',\n",
       "    '/FontDescriptor': {'/Type': '/FontDescriptor',\n",
       "     '/FontName': '/TimesNewRomanPSMT',\n",
       "     '/Flags': 32,\n",
       "     '/ItalicAngle': 0,\n",
       "     '/Ascent': 891,\n",
       "     '/Descent': -216,\n",
       "     '/CapHeight': 693,\n",
       "     '/AvgWidth': 401,\n",
       "     '/MaxWidth': 2614,\n",
       "     '/FontWeight': 400,\n",
       "     '/XHeight': 250,\n",
       "     '/Leading': 42,\n",
       "     '/StemV': 40,\n",
       "     '/FontBBox': [-568, -216, 2046, 693]},\n",
       "    '/FirstChar': 32,\n",
       "    '/LastChar': 125,\n",
       "    '/Widths': [250,\n",
       "     0,\n",
       "     0,\n",
       "     0,\n",
       "     0,\n",
       "     0,\n",
       "     778,\n",
       "     0,\n",
       "     333,\n",
       "     333,\n",
       "     0,\n",
       "     0,\n",
       "     250,\n",
       "     333,\n",
       "     250,\n",
       "     278,\n",
       "     500,\n",
       "     500,\n",
       "     500,\n",
       "     500,\n",
       "     500,\n",
       "     500,\n",
       "     500,\n",
       "     500,\n",
       "     500,\n",
       "     500,\n",
       "     278,\n",
       "     278,\n",
       "     564,\n",
       "     564,\n",
       "     564,\n",
       "     444,\n",
       "     0,\n",
       "     722,\n",
       "     667,\n",
       "     667,\n",
       "     722,\n",
       "     611,\n",
       "     556,\n",
       "     722,\n",
       "     722,\n",
       "     333,\n",
       "     0,\n",
       "     0,\n",
       "     611,\n",
       "     889,\n",
       "     722,\n",
       "     0,\n",
       "     556,\n",
       "     0,\n",
       "     667,\n",
       "     556,\n",
       "     611,\n",
       "     722,\n",
       "     722,\n",
       "     944,\n",
       "     722,\n",
       "     722,\n",
       "     0,\n",
       "     0,\n",
       "     0,\n",
       "     0,\n",
       "     469,\n",
       "     0,\n",
       "     0,\n",
       "     444,\n",
       "     500,\n",
       "     444,\n",
       "     500,\n",
       "     444,\n",
       "     333,\n",
       "     500,\n",
       "     500,\n",
       "     278,\n",
       "     0,\n",
       "     500,\n",
       "     278,\n",
       "     778,\n",
       "     500,\n",
       "     500,\n",
       "     500,\n",
       "     500,\n",
       "     333,\n",
       "     389,\n",
       "     278,\n",
       "     500,\n",
       "     500,\n",
       "     722,\n",
       "     500,\n",
       "     500,\n",
       "     444,\n",
       "     480,\n",
       "     0,\n",
       "     480]},\n",
       "   '/F3': {'/Type': '/Font',\n",
       "    '/Subtype': '/TrueType',\n",
       "    '/Name': '/F3',\n",
       "    '/BaseFont': '/ArialMT',\n",
       "    '/Encoding': '/WinAnsiEncoding',\n",
       "    '/FontDescriptor': {'/Type': '/FontDescriptor',\n",
       "     '/FontName': '/ArialMT',\n",
       "     '/Flags': 32,\n",
       "     '/ItalicAngle': 0,\n",
       "     '/Ascent': 905,\n",
       "     '/Descent': -210,\n",
       "     '/CapHeight': 728,\n",
       "     '/AvgWidth': 441,\n",
       "     '/MaxWidth': 2665,\n",
       "     '/FontWeight': 400,\n",
       "     '/XHeight': 250,\n",
       "     '/Leading': 33,\n",
       "     '/StemV': 44,\n",
       "     '/FontBBox': [-665, -210, 2000, 728]},\n",
       "    '/FirstChar': 32,\n",
       "    '/LastChar': 32,\n",
       "    '/Widths': [278]},\n",
       "   '/F4': {'/Type': '/Font',\n",
       "    '/Subtype': '/Type0',\n",
       "    '/BaseFont': '/TimesNewRomanPSMT',\n",
       "    '/Encoding': '/Identity-H',\n",
       "    '/DescendantFonts': [IndirectObject(16, 0, 2100030676880)],\n",
       "    '/ToUnicode': {'/Filter': '/FlateDecode'}}},\n",
       "  '/ExtGState': {'/GS7': {'/Type': '/ExtGState', '/BM': '/Normal', '/ca': 1},\n",
       "   '/GS8': {'/Type': '/ExtGState', '/BM': '/Normal', '/CA': 1}},\n",
       "  '/ProcSet': ['/PDF', '/Text', '/ImageB', '/ImageC', '/ImageI']},\n",
       " '/MediaBox': [0, 0, 612, 792],\n",
       " '/Contents': {'/Filter': '/FlateDecode'},\n",
       " '/Group': {'/Type': '/Group', '/S': '/Transparency', '/CS': '/DeviceRGB'},\n",
       " '/Tabs': '/S',\n",
       " '/Parent': {'/Type': '/Pages',\n",
       "  '/Count': 1,\n",
       "  '/Kids': [IndirectObject(4, 0, 2100030676880)]}}"
      ]
     },
     "execution_count": 23,
     "metadata": {},
     "output_type": "execute_result"
    }
   ],
   "source": [
    "pdf_writer.add_page(first_page)"
   ]
  },
  {
   "cell_type": "code",
   "execution_count": 24,
   "id": "ae86806c",
   "metadata": {},
   "outputs": [],
   "source": [
    "pdf_output = open(\"New_Doc.pdf\",\"wb\")"
   ]
  },
  {
   "cell_type": "code",
   "execution_count": 25,
   "id": "2f4b73c7",
   "metadata": {},
   "outputs": [
    {
     "data": {
      "text/plain": [
       "(False, <_io.BufferedWriter name='New_Doc.pdf'>)"
      ]
     },
     "execution_count": 25,
     "metadata": {},
     "output_type": "execute_result"
    }
   ],
   "source": [
    "pdf_writer.write(pdf_output)"
   ]
  },
  {
   "cell_type": "code",
   "execution_count": 26,
   "id": "423e20db",
   "metadata": {},
   "outputs": [],
   "source": [
    "pdf_output.close()"
   ]
  },
  {
   "cell_type": "code",
   "execution_count": 27,
   "id": "18a3dee3",
   "metadata": {},
   "outputs": [],
   "source": [
    "f.close()"
   ]
  },
  {
   "cell_type": "code",
   "execution_count": 28,
   "id": "d3dfc452",
   "metadata": {},
   "outputs": [],
   "source": [
    "f = open(\"New_Doc.pdf\",'rb')"
   ]
  },
  {
   "cell_type": "code",
   "execution_count": 29,
   "id": "4af475a8",
   "metadata": {},
   "outputs": [],
   "source": [
    "pdf_reader = PyPDF2.PdfReader(f)"
   ]
  },
  {
   "cell_type": "code",
   "execution_count": 30,
   "id": "2c3f9840",
   "metadata": {},
   "outputs": [
    {
     "data": {
      "text/plain": [
       "1"
      ]
     },
     "execution_count": 30,
     "metadata": {},
     "output_type": "execute_result"
    }
   ],
   "source": [
    "len(pdf_reader.pages)"
   ]
  },
  {
   "cell_type": "code",
   "execution_count": 31,
   "id": "30dfc1bb",
   "metadata": {},
   "outputs": [],
   "source": [
    "page_one = pdf_reader.pages[0]"
   ]
  },
  {
   "cell_type": "code",
   "execution_count": 32,
   "id": "e2dd2e43",
   "metadata": {},
   "outputs": [],
   "source": [
    "page_one_text = page_one.extract_text()"
   ]
  },
  {
   "cell_type": "code",
   "execution_count": 33,
   "id": "e581ae62",
   "metadata": {},
   "outputs": [
    {
     "data": {
      "text/plain": [
       "'Important Question s for End -term  \\n1. What do you mean by Unsupervised learning?  \\n2. Explain the evaluation metrics f or regression  and classification  algorithms.  \\n3. Explain how does Bias-Variance tradeoff work s in Machine Learning models . \\n4. Consider a situation where you have 1000 fruits which are either ‘banana’ or ‘apple’ or ‘other’. \\nUse Naïve Bayes classifier  to predict if a given fruit is a ‘Banana’ or an ‘Apple’ or ‘Other’ when \\nthe three attributes: {long, sweet, yellow} are known as given in the table below:  \\n \\nType  Long  Not \\nLong  Sweet  Not \\nsweet  Yellow  Not \\nYellow  Total  \\nBanana  400 100 350 150 450 50 500 \\nApple  0 300 150 150 300 0 300 \\nOther  100 100 150 50 50 150 200 \\nTotal  500 500 650 350 800 200 1000  \\n \\n5. What do you understand by Clustering? What are its various types?  \\n6. Describe in detail the types of Regression models used in Machine Learning . \\n7. What are the different types of Classification techniques and its real -world applications?  \\n8. Using the k-Nearest Neighbours , classify the given target into the three species: {Setosa, \\nVirginia, and Versicolor} which belong to the Iris dataset. In this dataset, we have 3 attributes \\nwhich have sepal length, sepal width, and specie s. Species have a targ et attribute. The target \\nneeds to find the nearest species which belong from three species.  '"
      ]
     },
     "execution_count": 33,
     "metadata": {},
     "output_type": "execute_result"
    }
   ],
   "source": [
    "page_one_text"
   ]
  },
  {
   "cell_type": "code",
   "execution_count": 34,
   "id": "5f05c4a5",
   "metadata": {},
   "outputs": [],
   "source": [
    "f.close()"
   ]
  },
  {
   "cell_type": "code",
   "execution_count": null,
   "id": "71e7ec06",
   "metadata": {},
   "outputs": [],
   "source": []
  }
 ],
 "metadata": {
  "kernelspec": {
   "display_name": "Python 3 (ipykernel)",
   "language": "python",
   "name": "python3"
  },
  "language_info": {
   "codemirror_mode": {
    "name": "ipython",
    "version": 3
   },
   "file_extension": ".py",
   "mimetype": "text/x-python",
   "name": "python",
   "nbconvert_exporter": "python",
   "pygments_lexer": "ipython3",
   "version": "3.11.4"
  }
 },
 "nbformat": 4,
 "nbformat_minor": 5
}
