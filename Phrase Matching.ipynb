{
 "cells": [
  {
   "cell_type": "code",
   "execution_count": 1,
   "id": "1fbd2dd0",
   "metadata": {},
   "outputs": [],
   "source": [
    "#Perform standard imports"
   ]
  },
  {
   "cell_type": "code",
   "execution_count": 2,
   "id": "ca92e1d8",
   "metadata": {},
   "outputs": [],
   "source": [
    "import spacy"
   ]
  },
  {
   "cell_type": "code",
   "execution_count": 3,
   "id": "c37fd203",
   "metadata": {},
   "outputs": [],
   "source": [
    "nlp = spacy.load('en_core_web_sm')"
   ]
  },
  {
   "cell_type": "code",
   "execution_count": 4,
   "id": "f33abf59",
   "metadata": {},
   "outputs": [],
   "source": [
    "#Import the Matcher Library"
   ]
  },
  {
   "cell_type": "code",
   "execution_count": 5,
   "id": "e78afd16",
   "metadata": {},
   "outputs": [],
   "source": [
    "from spacy.matcher import Matcher"
   ]
  },
  {
   "cell_type": "code",
   "execution_count": 6,
   "id": "411661f7",
   "metadata": {},
   "outputs": [],
   "source": [
    "matcher = Matcher(nlp.vocab)"
   ]
  },
  {
   "cell_type": "code",
   "execution_count": 7,
   "id": "749d6fca",
   "metadata": {},
   "outputs": [],
   "source": [
    "pattern1 = [{'LOWER':'solarpower'}]\n",
    "pattern2 = [{'LOWER':'solar'}, {'LOWER':'power'}]\n",
    "pattern3 = [{'LOWER':'solar'}, {'IS_PUNCT': True}, {'LOWER':'power'}]"
   ]
  },
  {
   "cell_type": "code",
   "execution_count": 8,
   "id": "cba4c793",
   "metadata": {},
   "outputs": [],
   "source": [
    "matcher.add('SolarPower', [pattern1,pattern2,pattern3])"
   ]
  },
  {
   "cell_type": "code",
   "execution_count": 9,
   "id": "15be26fe",
   "metadata": {},
   "outputs": [],
   "source": [
    "doc = nlp(u'The Solar Power industry continues to grow a solarpower increases. Solar-power cars are gaining popularity')"
   ]
  },
  {
   "cell_type": "code",
   "execution_count": 10,
   "id": "06c0787e",
   "metadata": {},
   "outputs": [],
   "source": [
    "found_matches = matcher(doc)"
   ]
  },
  {
   "cell_type": "code",
   "execution_count": 11,
   "id": "bbd994a5",
   "metadata": {},
   "outputs": [
    {
     "name": "stdout",
     "output_type": "stream",
     "text": [
      "[(8656102463236116519, 1, 3), (8656102463236116519, 8, 9), (8656102463236116519, 11, 14)]\n"
     ]
    }
   ],
   "source": [
    "print(found_matches)"
   ]
  },
  {
   "cell_type": "code",
   "execution_count": 12,
   "id": "3f14396e",
   "metadata": {},
   "outputs": [
    {
     "name": "stdout",
     "output_type": "stream",
     "text": [
      "8656102463236116519 SolarPower 1 3 Solar Power\n",
      "8656102463236116519 SolarPower 8 9 solarpower\n",
      "8656102463236116519 SolarPower 11 14 Solar-power\n"
     ]
    }
   ],
   "source": [
    "for match_id, start, end in found_matches:\n",
    "    string_id = nlp.vocab.strings[match_id]\n",
    "    span = doc[start:end]\n",
    "    print(match_id, string_id, start, end, span.text)"
   ]
  },
  {
   "cell_type": "code",
   "execution_count": 13,
   "id": "d4e27d0a",
   "metadata": {},
   "outputs": [],
   "source": [
    "#Redefine the patterns:"
   ]
  },
  {
   "cell_type": "code",
   "execution_count": 14,
   "id": "03864607",
   "metadata": {},
   "outputs": [],
   "source": [
    "pattern1 = [{'LOWER':'solarpower'}]\n",
    "pattern2 = [{'LOWER':'solar'}, {'IS_PUNCT': True, 'OP':'*'}, {'LOWER':'power'}]"
   ]
  },
  {
   "cell_type": "code",
   "execution_count": 15,
   "id": "f3dda8a5",
   "metadata": {},
   "outputs": [],
   "source": [
    "matcher.add('SolarPower', [pattern1,pattern2])"
   ]
  },
  {
   "cell_type": "code",
   "execution_count": 16,
   "id": "94fc77fd",
   "metadata": {},
   "outputs": [
    {
     "name": "stdout",
     "output_type": "stream",
     "text": [
      "[(8656102463236116519, 1, 3), (8656102463236116519, 8, 9), (8656102463236116519, 11, 14)]\n"
     ]
    }
   ],
   "source": [
    "found_matches = matcher(doc)\n",
    "print(found_matches)"
   ]
  },
  {
   "cell_type": "code",
   "execution_count": 17,
   "id": "51092222",
   "metadata": {},
   "outputs": [],
   "source": [
    "matcher.remove ('SolarPower')"
   ]
  },
  {
   "cell_type": "code",
   "execution_count": 18,
   "id": "b715ddc7",
   "metadata": {},
   "outputs": [],
   "source": [
    "pattern1 = [{'LOWER':'solarpower'}]\n",
    "pattern2 = [{'LOWER':'solar'}, {'IS_PUNCT': True, 'OP':'*'}, {'LEMMA':'power'}]"
   ]
  },
  {
   "cell_type": "code",
   "execution_count": 19,
   "id": "294a38d3",
   "metadata": {},
   "outputs": [],
   "source": [
    "matcher.add('SolarPower', [pattern1,pattern2])"
   ]
  },
  {
   "cell_type": "code",
   "execution_count": 20,
   "id": "a61bd090",
   "metadata": {},
   "outputs": [],
   "source": [
    "doc2 = nlp(u'Solar--powered energy runs solar-powered cars.')"
   ]
  },
  {
   "cell_type": "code",
   "execution_count": 21,
   "id": "690d7cc1",
   "metadata": {},
   "outputs": [],
   "source": [
    "found_matches = matcher(doc2)"
   ]
  },
  {
   "cell_type": "code",
   "execution_count": 22,
   "id": "489c097e",
   "metadata": {},
   "outputs": [
    {
     "data": {
      "text/plain": [
       "[(8656102463236116519, 0, 3), (8656102463236116519, 5, 8)]"
      ]
     },
     "execution_count": 22,
     "metadata": {},
     "output_type": "execute_result"
    }
   ],
   "source": [
    "found_matches"
   ]
  },
  {
   "cell_type": "markdown",
   "id": "d75ab284",
   "metadata": {},
   "source": [
    "# 04.10.2024"
   ]
  },
  {
   "cell_type": "code",
   "execution_count": 23,
   "id": "99dcd822",
   "metadata": {},
   "outputs": [],
   "source": [
    "from spacy.matcher import Matcher"
   ]
  },
  {
   "cell_type": "code",
   "execution_count": 24,
   "id": "7dde3bed",
   "metadata": {},
   "outputs": [],
   "source": [
    "matcher = Matcher(nlp.vocab)"
   ]
  },
  {
   "cell_type": "code",
   "execution_count": 25,
   "id": "18deea17",
   "metadata": {},
   "outputs": [],
   "source": [
    "pattern = [{\"POS\":\"ADJ\"},{\"POS\":\"NOUN\"}]\n",
    "matcher.add(\"ADJ_NOUN_PATTERN\",[pattern])"
   ]
  },
  {
   "cell_type": "code",
   "execution_count": 26,
   "id": "660545cd",
   "metadata": {},
   "outputs": [],
   "source": [
    "doc = nlp(u'I saw a beautiful cat and a happy dod.')"
   ]
  },
  {
   "cell_type": "code",
   "execution_count": 27,
   "id": "97ab1c9b",
   "metadata": {},
   "outputs": [],
   "source": [
    "matches = matcher(doc)"
   ]
  },
  {
   "cell_type": "code",
   "execution_count": 28,
   "id": "cfb8150b",
   "metadata": {},
   "outputs": [
    {
     "data": {
      "text/plain": [
       "[(5488211386492616699, 3, 5), (5488211386492616699, 7, 9)]"
      ]
     },
     "execution_count": 28,
     "metadata": {},
     "output_type": "execute_result"
    }
   ],
   "source": [
    "matches"
   ]
  },
  {
   "cell_type": "code",
   "execution_count": 29,
   "id": "246afcc2",
   "metadata": {},
   "outputs": [],
   "source": [
    "from spacy.matcher import PhraseMatcher"
   ]
  },
  {
   "cell_type": "code",
   "execution_count": 30,
   "id": "53541bb4",
   "metadata": {},
   "outputs": [],
   "source": [
    "phrase_matcher = PhraseMatcher(nlp.vocab)"
   ]
  },
  {
   "cell_type": "code",
   "execution_count": 31,
   "id": "90538a17",
   "metadata": {},
   "outputs": [],
   "source": [
    "phrases = ['beautiful cat','happy dog']\n",
    "patterns = [nlp(text) for text in phrases]\n",
    "phrase_matcher.add(\"ANIMAL_PATTERN\",patterns)"
   ]
  },
  {
   "cell_type": "code",
   "execution_count": 32,
   "id": "ebf87452",
   "metadata": {},
   "outputs": [],
   "source": [
    "doc = nlp('I saw a beautiful cat and a happy dog')"
   ]
  },
  {
   "cell_type": "code",
   "execution_count": 33,
   "id": "4c2869a9",
   "metadata": {},
   "outputs": [],
   "source": [
    "matches = phrase_matcher(doc)"
   ]
  },
  {
   "cell_type": "code",
   "execution_count": 34,
   "id": "0ca30ec9",
   "metadata": {},
   "outputs": [
    {
     "data": {
      "text/plain": [
       "[(18232475512666784510, 3, 5), (18232475512666784510, 7, 9)]"
      ]
     },
     "execution_count": 34,
     "metadata": {},
     "output_type": "execute_result"
    }
   ],
   "source": [
    "matches"
   ]
  },
  {
   "cell_type": "code",
   "execution_count": 35,
   "id": "872979a8",
   "metadata": {},
   "outputs": [],
   "source": [
    "#Q)Find the word Machine Learning and Artificial Intelligence"
   ]
  },
  {
   "cell_type": "code",
   "execution_count": 36,
   "id": "f46a1a22",
   "metadata": {},
   "outputs": [],
   "source": [
    "Pattern1 = [{'LOWER': 'machine'}, {'IS_PUNCT': True, 'OP':'*'},{'LOWER': 'learning'}]\n",
    "Pattern2 = [{'LOWER': 'artificial'}, {'IS_PUNCT': True, 'OP':'*'},{'LOWER': 'intelligence'}]\n",
    "Pattern3 = [{'LOWER': 'deep'}, {'IS_PUNCT': True, 'OP':'*'},{'LOWER': 'learning'}]"
   ]
  },
  {
   "cell_type": "code",
   "execution_count": 37,
   "id": "5fa7e500",
   "metadata": {},
   "outputs": [],
   "source": [
    "matcher.add('DS Terms',[Pattern1,Pattern2,Pattern3])"
   ]
  },
  {
   "cell_type": "code",
   "execution_count": 38,
   "id": "1148b5f7",
   "metadata": {},
   "outputs": [],
   "source": [
    "doc10 = nlp(u'I will learn machine learning and artificial intelligence.')"
   ]
  },
  {
   "cell_type": "code",
   "execution_count": 39,
   "id": "db6d7eaa",
   "metadata": {},
   "outputs": [
    {
     "data": {
      "text/plain": [
       "[(10166658444968339366, 3, 5),\n",
       " (5488211386492616699, 6, 8),\n",
       " (10166658444968339366, 6, 8)]"
      ]
     },
     "execution_count": 39,
     "metadata": {},
     "output_type": "execute_result"
    }
   ],
   "source": [
    "matches = matcher(doc10)\n",
    "matches"
   ]
  },
  {
   "cell_type": "code",
   "execution_count": 40,
   "id": "6478bd6d",
   "metadata": {},
   "outputs": [],
   "source": [
    "#Homework"
   ]
  },
  {
   "cell_type": "code",
   "execution_count": 41,
   "id": "e6d63ff2",
   "metadata": {},
   "outputs": [],
   "source": [
    "nlp = spacy.load('en_core_web_sm')"
   ]
  },
  {
   "cell_type": "code",
   "execution_count": 42,
   "id": "0d932f06",
   "metadata": {},
   "outputs": [],
   "source": [
    "from spacy.matcher import PhraseMatcher"
   ]
  },
  {
   "cell_type": "code",
   "execution_count": 43,
   "id": "292ab2d5",
   "metadata": {},
   "outputs": [],
   "source": [
    "matcher = PhraseMatcher(nlp.vocab)"
   ]
  },
  {
   "cell_type": "code",
   "execution_count": 44,
   "id": "0a5b5ee5",
   "metadata": {},
   "outputs": [],
   "source": [
    "with open('reaganomics.txt','r') as f:\n",
    "    doc3 = nlp(f.read())"
   ]
  },
  {
   "cell_type": "code",
   "execution_count": null,
   "id": "051ee23a",
   "metadata": {},
   "outputs": [],
   "source": []
  }
 ],
 "metadata": {
  "kernelspec": {
   "display_name": "Python 3 (ipykernel)",
   "language": "python",
   "name": "python3"
  },
  "language_info": {
   "codemirror_mode": {
    "name": "ipython",
    "version": 3
   },
   "file_extension": ".py",
   "mimetype": "text/x-python",
   "name": "python",
   "nbconvert_exporter": "python",
   "pygments_lexer": "ipython3",
   "version": "3.11.4"
  }
 },
 "nbformat": 4,
 "nbformat_minor": 5
}
