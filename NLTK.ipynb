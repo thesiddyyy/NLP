{
 "cells": [
  {
   "cell_type": "markdown",
   "id": "e467cdd4",
   "metadata": {},
   "source": [
    "# 1. Tokenize a simple sentence using word_tokenize. ( \"Natural Language Processing with Python is fun.\")"
   ]
  },
  {
   "cell_type": "code",
   "execution_count": 1,
   "id": "7c1b8dac",
   "metadata": {},
   "outputs": [],
   "source": [
    "from nltk.tokenize import word_tokenize, sent_tokenize"
   ]
  },
  {
   "cell_type": "code",
   "execution_count": 6,
   "id": "0400b81c",
   "metadata": {},
   "outputs": [
    {
     "name": "stderr",
     "output_type": "stream",
     "text": [
      "[nltk_data] Downloading package punkt to\n",
      "[nltk_data]     C:\\Users\\Gratitude\\AppData\\Roaming\\nltk_data...\n",
      "[nltk_data]   Package punkt is already up-to-date!\n"
     ]
    },
    {
     "data": {
      "text/plain": [
       "True"
      ]
     },
     "execution_count": 6,
     "metadata": {},
     "output_type": "execute_result"
    }
   ],
   "source": [
    "import nltk\n",
    "nltk.download('punkt')"
   ]
  },
  {
   "cell_type": "code",
   "execution_count": 5,
   "id": "bdf7f04b",
   "metadata": {},
   "outputs": [
    {
     "data": {
      "text/plain": [
       "['Natural', 'Language', 'Processing', 'with', 'Python', 'is', 'fun', '.']"
      ]
     },
     "execution_count": 5,
     "metadata": {},
     "output_type": "execute_result"
    }
   ],
   "source": [
    "var = \"Natural Language Processing with Python is fun.\"\n",
    "word = word_tokenize(var)\n",
    "word"
   ]
  },
  {
   "cell_type": "markdown",
   "id": "c0172916",
   "metadata": {},
   "source": [
    "# 2. Remove punctuation from a sentence using NLTK. (\"Hello there! How's the weather today?\")."
   ]
  },
  {
   "cell_type": "code",
   "execution_count": 7,
   "id": "8612f996",
   "metadata": {},
   "outputs": [],
   "source": [
    "def punct_removal(sent):\n",
    "    from string import punctuation\n",
    "    punct_list = list(punctuation)\n",
    "\n",
    "    from nltk.tokenize import word_tokenize\n",
    "    var_new = word_tokenize(var)\n",
    "\n",
    "    for i in var_new:\n",
    "        if i not in punct_list:\n",
    "            print(i)"
   ]
  },
  {
   "cell_type": "code",
   "execution_count": 8,
   "id": "c9f7646e",
   "metadata": {},
   "outputs": [
    {
     "name": "stdout",
     "output_type": "stream",
     "text": [
      "Hello\n",
      "there\n",
      "How\n",
      "'s\n",
      "the\n",
      "weather\n",
      "today\n"
     ]
    }
   ],
   "source": [
    "var = \"Hello there! How's the weather today?\"\n",
    "punct_removal(var)"
   ]
  },
  {
   "cell_type": "markdown",
   "id": "a75bc821",
   "metadata": {},
   "source": [
    "# 3. Remove stopwords from a sentence. (\"This is a simple sentence for stopword removal.\")"
   ]
  },
  {
   "cell_type": "code",
   "execution_count": 9,
   "id": "83c2bde2",
   "metadata": {},
   "outputs": [],
   "source": [
    "def stop_word_removal(sent):\n",
    "    from nltk.corpus import stopwords\n",
    "    \n",
    "    import nltk\n",
    "    nltk.download('stopwords')\n",
    "    stop_word_list = stopwords.words(\"english\") \n",
    "\n",
    "    from nltk.tokenize import word_tokenize\n",
    "    var_new = word_tokenize(var)\n",
    "\n",
    "    for i in var_new:\n",
    "        if i not in stop_word_list:\n",
    "            print(i)"
   ]
  },
  {
   "cell_type": "code",
   "execution_count": 10,
   "id": "85c7a9df",
   "metadata": {},
   "outputs": [
    {
     "name": "stderr",
     "output_type": "stream",
     "text": [
      "[nltk_data] Downloading package stopwords to\n",
      "[nltk_data]     C:\\Users\\Gratitude\\AppData\\Roaming\\nltk_data...\n",
      "[nltk_data]   Package stopwords is already up-to-date!\n"
     ]
    },
    {
     "name": "stdout",
     "output_type": "stream",
     "text": [
      "This\n",
      "simple\n",
      "sentence\n",
      "stopword\n",
      "removal\n",
      ".\n"
     ]
    }
   ],
   "source": [
    "var = \"This is a simple sentence for stopword removal.\"\n",
    "stop_word_removal(var)"
   ]
  },
  {
   "cell_type": "markdown",
   "id": "d4556750",
   "metadata": {},
   "source": [
    "# 4. Perform stemming using PorterStemmer. (\"The striped bats are hanging on their feet for best.\")"
   ]
  },
  {
   "cell_type": "code",
   "execution_count": 11,
   "id": "befbb5f6",
   "metadata": {},
   "outputs": [
    {
     "name": "stdout",
     "output_type": "stream",
     "text": [
      "the\n",
      "stripe\n",
      "bat\n",
      "are\n",
      "hang\n",
      "on\n",
      "their\n",
      "feet\n",
      "for\n",
      "best\n",
      ".\n"
     ]
    }
   ],
   "source": [
    "from nltk.tokenize import word_tokenize\n",
    "var = \"The striped bats are hanging on their feet for best.\"\n",
    "var_new = word_tokenize(var)\n",
    "\n",
    "from nltk.stem import PorterStemmer\n",
    "p = PorterStemmer()\n",
    "for i in var_new:\n",
    "    stem = p.stem(i)\n",
    "    print(stem)"
   ]
  },
  {
   "cell_type": "markdown",
   "id": "9fd14cc6",
   "metadata": {},
   "source": [
    "# 5. Perform lemmatization using WordNetLemmatizer. (\"The geese are flying south for the winter.\")"
   ]
  },
  {
   "cell_type": "code",
   "execution_count": 13,
   "id": "a63564f2",
   "metadata": {},
   "outputs": [
    {
     "name": "stderr",
     "output_type": "stream",
     "text": [
      "[nltk_data] Downloading package wordnet to\n",
      "[nltk_data]     C:\\Users\\Gratitude\\AppData\\Roaming\\nltk_data...\n"
     ]
    },
    {
     "data": {
      "text/plain": [
       "True"
      ]
     },
     "execution_count": 13,
     "metadata": {},
     "output_type": "execute_result"
    }
   ],
   "source": [
    "import nltk\n",
    "nltk.download('wordnet')"
   ]
  },
  {
   "cell_type": "code",
   "execution_count": 14,
   "id": "49c65187",
   "metadata": {},
   "outputs": [
    {
     "name": "stdout",
     "output_type": "stream",
     "text": [
      "The\n",
      "goose\n",
      "are\n",
      "flying\n",
      "south\n",
      "for\n",
      "the\n",
      "winter\n",
      ".\n"
     ]
    }
   ],
   "source": [
    "from nltk.tokenize import word_tokenize\n",
    "var = \"The geese are flying south for the winter.\"\n",
    "var_new = word_tokenize(var)\n",
    "\n",
    "from nltk.stem import WordNetLemmatizer\n",
    "wl = WordNetLemmatizer()\n",
    "\n",
    "for i in var_new:\n",
    "    lemmatizer = wl.lemmatize(i)\n",
    "    print(lemmatizer)"
   ]
  },
  {
   "cell_type": "markdown",
   "id": "3da64338",
   "metadata": {},
   "source": [
    "# 6. Convert text to lowercase and remove punctuation. (\"Hello, World! NLP with Python.\")"
   ]
  },
  {
   "cell_type": "code",
   "execution_count": 15,
   "id": "d11dfd1e",
   "metadata": {},
   "outputs": [
    {
     "name": "stdout",
     "output_type": "stream",
     "text": [
      "hello\n",
      "world\n",
      "nlp\n",
      "with\n",
      "python\n"
     ]
    }
   ],
   "source": [
    "def punct_removal(sent):\n",
    "    from string import punctuation\n",
    "    punct_list = list(punctuation)\n",
    "\n",
    "    from nltk.tokenize import word_tokenize\n",
    "    var_new = word_tokenize(var)\n",
    "\n",
    "    for i in var_new:\n",
    "        if i not in punct_list:\n",
    "            print(i)\n",
    "\n",
    "var = \"Hello, World! NLP with Python.\".lower()\n",
    "punct_removal(var)"
   ]
  },
  {
   "cell_type": "markdown",
   "id": "50d2595b",
   "metadata": {},
   "source": [
    "# 7.  Tokenize a sentence into sentences using sent_tokenize. (\"Hello World. This is NLTK. Let's explore NLP!\")"
   ]
  },
  {
   "cell_type": "code",
   "execution_count": 16,
   "id": "aa2782d7",
   "metadata": {},
   "outputs": [
    {
     "name": "stdout",
     "output_type": "stream",
     "text": [
      "Hello World.\n",
      "This is NLTK.\n",
      "Let's explore NLP!\n"
     ]
    }
   ],
   "source": [
    "from nltk.tokenize import sent_tokenize\n",
    "var = \"Hello World. This is NLTK. Let's explore NLP!\"\n",
    "sent = sent_tokenize(var)\n",
    "sent\n",
    "\n",
    "for i in sent:\n",
    "    print(i)"
   ]
  },
  {
   "cell_type": "code",
   "execution_count": 17,
   "id": "e822f795",
   "metadata": {},
   "outputs": [
    {
     "data": {
      "text/plain": [
       "'Hello World.'"
      ]
     },
     "execution_count": 17,
     "metadata": {},
     "output_type": "execute_result"
    }
   ],
   "source": [
    "sent[0]"
   ]
  },
  {
   "cell_type": "markdown",
   "id": "aabf11c6",
   "metadata": {},
   "source": [
    "# 8. Stem words in a sentence using LancasterStemmer. (“Loving the experience of learning NLTK”)"
   ]
  },
  {
   "cell_type": "code",
   "execution_count": 18,
   "id": "13b1286a",
   "metadata": {},
   "outputs": [
    {
     "name": "stdout",
     "output_type": "stream",
     "text": [
      "lov\n",
      "the\n",
      "expery\n",
      "of\n",
      "learn\n",
      "nltk\n"
     ]
    }
   ],
   "source": [
    "from nltk.tokenize import word_tokenize\n",
    "var = \"Loving the experience of learning NLTK\"\n",
    "tokenize_var = word_tokenize(var)\n",
    "\n",
    "from nltk.stem import LancasterStemmer\n",
    "l = LancasterStemmer()\n",
    "for i in tokenize_var:\n",
    "    lanstemmer = l.stem(i)\n",
    "    print(lanstemmer)"
   ]
  },
  {
   "cell_type": "markdown",
   "id": "124e08d6",
   "metadata": {},
   "source": [
    "# 9. Remove both stopwords and punctuation from a sentence. (\"This is a test sentence, with stopwords and punctuation!\")"
   ]
  },
  {
   "cell_type": "code",
   "execution_count": 19,
   "id": "313b9520",
   "metadata": {},
   "outputs": [
    {
     "name": "stdout",
     "output_type": "stream",
     "text": [
      "This\n",
      "test\n",
      "sentence\n",
      "stopwords\n",
      "punctuation\n"
     ]
    },
    {
     "name": "stderr",
     "output_type": "stream",
     "text": [
      "[nltk_data] Downloading package stopwords to\n",
      "[nltk_data]     C:\\Users\\Gratitude\\AppData\\Roaming\\nltk_data...\n",
      "[nltk_data]   Package stopwords is already up-to-date!\n"
     ]
    }
   ],
   "source": [
    "var = \"This is a test sentence, with stopwords and punctuation!\"\n",
    "\n",
    "from nltk.corpus import stopwords\n",
    "from string import punctuation\n",
    "\n",
    "import nltk\n",
    "nltk.download('stopwords')\n",
    "\n",
    "stop = stopwords.words(\"english\")\n",
    "\n",
    "\n",
    "stop_word_list = list(punctuation)+stop\n",
    "\n",
    "\n",
    "\n",
    "new_var = word_tokenize(var)\n",
    "\n",
    "for i in new_var:\n",
    "    if i not in stop_word_list:\n",
    "        print(i)"
   ]
  },
  {
   "cell_type": "markdown",
   "id": "44ccf336",
   "metadata": {},
   "source": [
    "# 10. Lemmatize words with their part-of-speech (POS) tag. (\"The striped bats are hanging on their feet.\")"
   ]
  },
  {
   "cell_type": "code",
   "execution_count": 21,
   "id": "9403b2e3",
   "metadata": {},
   "outputs": [
    {
     "name": "stderr",
     "output_type": "stream",
     "text": [
      "[nltk_data] Downloading package averaged_perceptron_tagger to\n",
      "[nltk_data]     C:\\Users\\Gratitude\\AppData\\Roaming\\nltk_data...\n",
      "[nltk_data]   Unzipping taggers\\averaged_perceptron_tagger.zip.\n"
     ]
    },
    {
     "data": {
      "text/plain": [
       "True"
      ]
     },
     "execution_count": 21,
     "metadata": {},
     "output_type": "execute_result"
    }
   ],
   "source": [
    "import nltk\n",
    "nltk.download('averaged_perceptron_tagger')"
   ]
  },
  {
   "cell_type": "code",
   "execution_count": 22,
   "id": "8df2a418",
   "metadata": {},
   "outputs": [
    {
     "name": "stdout",
     "output_type": "stream",
     "text": [
      "[('The', 'DT'), ('striped', 'JJ'), ('bat', 'NN'), ('are', 'VBP'), ('hanging', 'VBG'), ('on', 'IN'), ('their', 'PRP$'), ('foot', 'NN'), ('.', '.')]\n"
     ]
    },
    {
     "name": "stderr",
     "output_type": "stream",
     "text": [
      "[nltk_data] Downloading package punkt to\n",
      "[nltk_data]     C:\\Users\\Gratitude\\AppData\\Roaming\\nltk_data...\n",
      "[nltk_data]   Package punkt is already up-to-date!\n",
      "[nltk_data] Downloading package averaged_perceptron_tagger to\n",
      "[nltk_data]     C:\\Users\\Gratitude\\AppData\\Roaming\\nltk_data...\n",
      "[nltk_data]   Package averaged_perceptron_tagger is already up-to-\n",
      "[nltk_data]       date!\n"
     ]
    }
   ],
   "source": [
    "from nltk.tokenize import word_tokenize\n",
    "var = \"The striped bats are hanging on their feet.\"\n",
    "tokenize_var = word_tokenize(var)\n",
    "\n",
    "\n",
    "from nltk.stem import WordNetLemmatizer\n",
    "wl = WordNetLemmatizer()\n",
    "\n",
    "from nltk.tokenize import word_tokenize\n",
    "a = [wl.lemmatize(i) for i in tokenize_var]\n",
    "\n",
    "\n",
    "import nltk\n",
    "nltk.download('punkt')\n",
    "\n",
    "from nltk import pos_tag\n",
    "p = pos_tag(a)\n",
    "\n",
    "import nltk\n",
    "nltk.download('averaged_perceptron_tagger')\n",
    "\n",
    "print(p)\n"
   ]
  },
  {
   "cell_type": "markdown",
   "id": "43880251",
   "metadata": {},
   "source": [
    "# 11. Tokenize and remove stopwords, punctuation, and perform stemming. (\"Running through the forest, the fox is faster.\")"
   ]
  },
  {
   "cell_type": "code",
   "execution_count": 23,
   "id": "2a333cdf",
   "metadata": {},
   "outputs": [
    {
     "name": "stdout",
     "output_type": "stream",
     "text": [
      "step:1 word before stop word removing and stemmer ['Running', 'through', 'the', 'forest', ',', 'the', 'fox', 'is', 'faster', '.']\n",
      "----------------------------------------------------------------------------------------------------\n",
      "\n",
      "Step 4: word after stopword and stemmer:\n",
      "run\n",
      "forest\n",
      "fox\n",
      "faster\n"
     ]
    },
    {
     "name": "stderr",
     "output_type": "stream",
     "text": [
      "[nltk_data] Downloading package stopwords to\n",
      "[nltk_data]     C:\\Users\\Gratitude\\AppData\\Roaming\\nltk_data...\n",
      "[nltk_data]   Package stopwords is already up-to-date!\n"
     ]
    }
   ],
   "source": [
    "from nltk.tokenize import word_tokenize\n",
    "var = \"Running through the forest, the fox is faster.\"\n",
    "tokenize_var = word_tokenize(var)\n",
    "print(f\"step:1 word before stop word removing and stemmer {tokenize_var}\")\n",
    "\n",
    "print(\"-\" * 100)\n",
    "\n",
    "\n",
    "from nltk.corpus import stopwords\n",
    "from string import punctuation\n",
    "\n",
    "\n",
    "import nltk\n",
    "nltk.download('stopwords')\n",
    "\n",
    "stop = stopwords.words(\"english\")\n",
    "\n",
    "\n",
    "stop_word_list = list(punctuation) + stop\n",
    "\n",
    "\n",
    "\n",
    "from nltk.stem import PorterStemmer \n",
    "p = PorterStemmer() \n",
    "\n",
    "\n",
    "print(\"\\nStep 4: word after stopword and stemmer:\")\n",
    "for i in tokenize_var:\n",
    "    if i not in stop_word_list:\n",
    "        stemmer = p.stem(i)\n",
    "        print(stemmer)"
   ]
  },
  {
   "cell_type": "markdown",
   "id": "3258f49f",
   "metadata": {},
   "source": [
    "# 12. Count stopwords in a sentence. (\"This is an example sentence for counting stopwords.\")"
   ]
  },
  {
   "cell_type": "code",
   "execution_count": 24,
   "id": "cf60d45c",
   "metadata": {},
   "outputs": [
    {
     "name": "stdout",
     "output_type": "stream",
     "text": [
      "is\n",
      "an\n",
      "for\n",
      "Total number of stop words: 3\n"
     ]
    }
   ],
   "source": [
    "def stop_word(sent):\n",
    "    from nltk.corpus import stopwords\n",
    "    \n",
    "    import nltk\n",
    "    nltk.download('stopwords', quiet=True)\n",
    "    stop_word_list = stopwords.words(\"english\")  \n",
    "\n",
    "    from nltk.tokenize import word_tokenize\n",
    "    var_new = word_tokenize(sent)\n",
    "\n",
    "    \n",
    "    stop_word_count = 0\n",
    "\n",
    "    for i in var_new:\n",
    "        if i in stop_word_list:\n",
    "            print(i) \n",
    "            stop_word_count += 1  \n",
    "\n",
    "    \n",
    "    print(\"Total number of stop words:\", stop_word_count)\n",
    "\n",
    "var = \"This is an example sentence for counting stopwords.\"\n",
    "stop_word(var)"
   ]
  },
  {
   "cell_type": "markdown",
   "id": "1cc581ae",
   "metadata": {},
   "source": [
    "# 13. Perform stemming and remove punctuation using RegexTokenizer. (\"Stemming, punctuation! Removal example.\")"
   ]
  },
  {
   "cell_type": "code",
   "execution_count": 25,
   "id": "9616435f",
   "metadata": {},
   "outputs": [
    {
     "name": "stdout",
     "output_type": "stream",
     "text": [
      "Tokenize using regex:\n",
      "['Stemming', ',', 'punctuation', '!', 'Removal', 'example', '.']\n",
      "\n",
      "# Word After Stemmer:\n",
      "Runn\n",
      "through\n",
      "the\n",
      "forest\n",
      "the\n",
      "fox\n",
      "is\n",
      "faster\n"
     ]
    }
   ],
   "source": [
    "var = \"Stemming, punctuation! Removal example.\"\n",
    "\n",
    "\n",
    "import re\n",
    "var = \"Stemming, punctuation! Removal example.\"\n",
    "print(f\"Tokenize using regex:\")\n",
    "print(re.findall(\"\\w+|[^\\w\\s]\",var))\n",
    "\n",
    "\n",
    "from string import punctuation\n",
    "punct_list = list(punctuation)\n",
    "\n",
    "\n",
    "from nltk.stem import RegexpStemmer\n",
    "r = RegexpStemmer('ing') \n",
    "\n",
    "\n",
    "print(\"\\n# Word After Stemmer:\")\n",
    "for i in tokenize_var:\n",
    "    if i not in punct_list:\n",
    "        stemmer = r.stem(i)\n",
    "        print(stemmer)"
   ]
  },
  {
   "cell_type": "markdown",
   "id": "86a6faa8",
   "metadata": {},
   "source": [
    "# 14. Remove punctuation using regex and NLTK. (\"Punctuation removal with regex in NLP!\")"
   ]
  },
  {
   "cell_type": "code",
   "execution_count": 28,
   "id": "2d01b35c",
   "metadata": {},
   "outputs": [
    {
     "name": "stdout",
     "output_type": "stream",
     "text": [
      "Punctuation removal with regex in NLP\n",
      "Punctuation\n",
      "removal\n",
      "with\n",
      "regex\n",
      "in\n",
      "NLP\n"
     ]
    },
    {
     "data": {
      "text/plain": [
       "['Punctuation', 'removal', 'with', 'regex', 'in', 'NLP', '!']"
      ]
     },
     "execution_count": 28,
     "metadata": {},
     "output_type": "execute_result"
    }
   ],
   "source": [
    "import string\n",
    "import re\n",
    "\n",
    "text = \"Punctuation removal with regex in NLP!\"\n",
    "pattern = f\"[{re.escape(string.punctuation)}]\"\n",
    "remove_punc = re.sub(pattern, '',text)\n",
    "\n",
    "print(remove_punc)\n",
    "\n",
    "from nltk.tokenize import word_tokenize\n",
    "tokenize_var = word_tokenize(text)\n",
    "\n",
    "from string import punctuation\n",
    "punkt_list = list(punctuation)\n",
    "punkt_list\n",
    "\n",
    "\n",
    "for i in tokenize_var:\n",
    "    if i not in punkt_list:\n",
    "        print(i)\n",
    "\n",
    "tokenize_var"
   ]
  },
  {
   "cell_type": "code",
   "execution_count": 29,
   "id": "c82deac3",
   "metadata": {},
   "outputs": [
    {
     "data": {
      "text/plain": [
       "['Punctuation', 'removal', 'with', 'regex', 'in', 'NLP']"
      ]
     },
     "execution_count": 29,
     "metadata": {},
     "output_type": "execute_result"
    }
   ],
   "source": [
    "punck_removed = [i for i in tokenize_var if i not in punkt_list]\n",
    "punck_removed"
   ]
  },
  {
   "cell_type": "markdown",
   "id": "a650442c",
   "metadata": {},
   "source": [
    "# 15. Tokenize text into words, remove stopwords, and lemmatize. (\"The dogs are barking loudly.\")"
   ]
  },
  {
   "cell_type": "code",
   "execution_count": 32,
   "id": "db23de38",
   "metadata": {},
   "outputs": [
    {
     "name": "stdout",
     "output_type": "stream",
     "text": [
      "The\n",
      "dog\n",
      "barking\n",
      "loudly\n",
      ".\n"
     ]
    },
    {
     "name": "stderr",
     "output_type": "stream",
     "text": [
      "[nltk_data] Downloading package stopwords to\n",
      "[nltk_data]     C:\\Users\\Gratitude\\AppData\\Roaming\\nltk_data...\n",
      "[nltk_data]   Package stopwords is already up-to-date!\n"
     ]
    }
   ],
   "source": [
    "var = \"The dogs are barking loudly.\"\n",
    "\n",
    "from nltk.tokenize import word_tokenize\n",
    "tokenize_var = word_tokenize(var)\n",
    "tokenize_var\n",
    "\n",
    "from nltk.corpus import stopwords\n",
    "\n",
    "\n",
    "import nltk\n",
    "nltk.download('stopwords')\n",
    "\n",
    "stop = stopwords.words(\"english\")\n",
    "\n",
    "\n",
    "from nltk.stem import WordNetLemmatizer\n",
    "wl = WordNetLemmatizer()\n",
    "\n",
    "\n",
    "for i in tokenize_var:\n",
    "    if i not in stop:\n",
    "        lemmatizer = wl.lemmatize(i) \n",
    "        print(lemmatizer)"
   ]
  },
  {
   "cell_type": "code",
   "execution_count": null,
   "id": "569dc0e2",
   "metadata": {},
   "outputs": [],
   "source": []
  }
 ],
 "metadata": {
  "kernelspec": {
   "display_name": "Python 3 (ipykernel)",
   "language": "python",
   "name": "python3"
  },
  "language_info": {
   "codemirror_mode": {
    "name": "ipython",
    "version": 3
   },
   "file_extension": ".py",
   "mimetype": "text/x-python",
   "name": "python",
   "nbconvert_exporter": "python",
   "pygments_lexer": "ipython3",
   "version": "3.11.4"
  }
 },
 "nbformat": 4,
 "nbformat_minor": 5
}
