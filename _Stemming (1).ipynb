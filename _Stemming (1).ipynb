{
 "cells": [
  {
   "cell_type": "code",
   "execution_count": 1,
   "id": "59c6c3f8",
   "metadata": {},
   "outputs": [],
   "source": [
    "import nltk"
   ]
  },
  {
   "cell_type": "code",
   "execution_count": 2,
   "id": "0a5a1b14",
   "metadata": {},
   "outputs": [],
   "source": [
    "from nltk.stem.porter import *"
   ]
  },
  {
   "cell_type": "code",
   "execution_count": 3,
   "id": "0adedd8c",
   "metadata": {},
   "outputs": [],
   "source": [
    "p_stemmer = PorterStemmer()\n",
    "words = ['run','runner','running','ran','runs','easily','fairly']"
   ]
  },
  {
   "cell_type": "code",
   "execution_count": 4,
   "id": "b5c4db37",
   "metadata": {},
   "outputs": [
    {
     "name": "stdout",
     "output_type": "stream",
     "text": [
      "run --> run\n",
      "runner --> runner\n",
      "running --> run\n",
      "ran --> ran\n",
      "runs --> run\n",
      "easily --> easili\n",
      "fairly --> fairli\n"
     ]
    }
   ],
   "source": [
    "for word in words:\n",
    "    print(word+' --> '+p_stemmer.stem(word))"
   ]
  },
  {
   "cell_type": "code",
   "execution_count": 5,
   "id": "ad24791c",
   "metadata": {},
   "outputs": [],
   "source": [
    "from nltk.stem.snowball import SnowballStemmer"
   ]
  },
  {
   "cell_type": "code",
   "execution_count": 6,
   "id": "15866f60",
   "metadata": {},
   "outputs": [],
   "source": [
    "# The Snowball Stemmer requires that you pass a language parameter\n",
    "s_stemmer = SnowballStemmer(language='english')"
   ]
  },
  {
   "cell_type": "code",
   "execution_count": 7,
   "id": "0d21724b",
   "metadata": {},
   "outputs": [
    {
     "name": "stdout",
     "output_type": "stream",
     "text": [
      "run --> run\n",
      "runner --> runner\n",
      "running --> run\n",
      "ran --> ran\n",
      "runs --> run\n",
      "easily --> easili\n",
      "fairly --> fair\n"
     ]
    }
   ],
   "source": [
    "words = ['run','runner','running','ran','runs','easily','fairly']\n",
    "for word in words:\n",
    "    print(word+' --> '+s_stemmer.stem(word))"
   ]
  },
  {
   "cell_type": "markdown",
   "id": "522926bb",
   "metadata": {},
   "source": [
    "# 01.10.2024"
   ]
  },
  {
   "cell_type": "code",
   "execution_count": 8,
   "id": "42db1098",
   "metadata": {},
   "outputs": [],
   "source": [
    "p_stemmer1 = PorterStemmer()\n",
    "words = ['Consolingly']"
   ]
  },
  {
   "cell_type": "code",
   "execution_count": 9,
   "id": "599cf3ae",
   "metadata": {},
   "outputs": [
    {
     "name": "stdout",
     "output_type": "stream",
     "text": [
      "Consolingly --> consolingli\n"
     ]
    }
   ],
   "source": [
    "for word in words:\n",
    "    print(word+' --> '+p_stemmer1.stem(word))"
   ]
  },
  {
   "cell_type": "code",
   "execution_count": 10,
   "id": "6ffccf13",
   "metadata": {},
   "outputs": [],
   "source": [
    "s_stemmer1 = SnowballStemmer(language='english')"
   ]
  },
  {
   "cell_type": "code",
   "execution_count": 11,
   "id": "051af9da",
   "metadata": {},
   "outputs": [
    {
     "name": "stdout",
     "output_type": "stream",
     "text": [
      "Consolingly --> consol\n"
     ]
    }
   ],
   "source": [
    "words = ['Consolingly']\n",
    "for word in words:\n",
    "    print(word+' --> '+s_stemmer.stem(word))"
   ]
  },
  {
   "cell_type": "code",
   "execution_count": null,
   "id": "616b8693",
   "metadata": {},
   "outputs": [],
   "source": []
  },
  {
   "cell_type": "code",
   "execution_count": 12,
   "id": "d2e7d891",
   "metadata": {},
   "outputs": [],
   "source": [
    "import spacy"
   ]
  },
  {
   "cell_type": "code",
   "execution_count": 13,
   "id": "e577553d",
   "metadata": {},
   "outputs": [],
   "source": [
    "nlp = spacy.load('en_core_web_sm')"
   ]
  },
  {
   "cell_type": "code",
   "execution_count": 14,
   "id": "6ffe7d4e",
   "metadata": {},
   "outputs": [
    {
     "name": "stdout",
     "output_type": "stream",
     "text": [
      "I\n",
      "am\n",
      "meeting\n",
      "him\n",
      "tomorrow\n",
      "at\n",
      "the\n",
      "meeting\n"
     ]
    }
   ],
   "source": [
    "phrase = nlp(u'I am meeting him tomorrow at the meeting')\n",
    "for p in phrase:\n",
    "    print(p)"
   ]
  },
  {
   "cell_type": "code",
   "execution_count": 15,
   "id": "30e82591",
   "metadata": {},
   "outputs": [],
   "source": [
    "p_stem = PorterStemmer()\n",
    "words = ['I am meeting him tomorrow at the meeting']"
   ]
  },
  {
   "cell_type": "code",
   "execution_count": 16,
   "id": "b37a7a9f",
   "metadata": {},
   "outputs": [
    {
     "name": "stdout",
     "output_type": "stream",
     "text": [
      "I am meeting him tomorrow at the meeting --> i am meeting him tomorrow at the meet\n"
     ]
    }
   ],
   "source": [
    "for word in words:\n",
    "    print(word+' --> '+p_stem.stem(word))"
   ]
  },
  {
   "cell_type": "code",
   "execution_count": 17,
   "id": "f27f5809",
   "metadata": {},
   "outputs": [],
   "source": [
    "import spacy "
   ]
  },
  {
   "cell_type": "code",
   "execution_count": 18,
   "id": "2e80bcbb",
   "metadata": {},
   "outputs": [],
   "source": [
    "nlp = spacy.load('en_core_web_sm')"
   ]
  },
  {
   "cell_type": "code",
   "execution_count": 19,
   "id": "c19e35ee",
   "metadata": {},
   "outputs": [],
   "source": [
    "doc1 = nlp(u'I am runner running in a race because I love to run since I ran today')"
   ]
  },
  {
   "cell_type": "code",
   "execution_count": 20,
   "id": "83b13b1c",
   "metadata": {},
   "outputs": [
    {
     "name": "stdout",
     "output_type": "stream",
     "text": [
      "I \t PRON \t I\n",
      "am \t AUX \t be\n",
      "runner \t NOUN \t runner\n",
      "running \t VERB \t run\n",
      "in \t ADP \t in\n",
      "a \t DET \t a\n",
      "race \t NOUN \t race\n",
      "because \t SCONJ \t because\n",
      "I \t PRON \t I\n",
      "love \t VERB \t love\n",
      "to \t PART \t to\n",
      "run \t VERB \t run\n",
      "since \t SCONJ \t since\n",
      "I \t PRON \t I\n",
      "ran \t VERB \t run\n",
      "today \t NOUN \t today\n"
     ]
    }
   ],
   "source": [
    "for token in doc1:\n",
    "    print(token.text,  '\\t' , token.pos_,  '\\t',  token.lemma_)"
   ]
  },
  {
   "cell_type": "code",
   "execution_count": 21,
   "id": "2a3c4a76",
   "metadata": {},
   "outputs": [],
   "source": [
    "def show_lemmas(text):\n",
    "    for token in text:\n",
    "        print(f'{token.text:{12}} {token.pos_:{6}} {token.lemma:<{22}} {token.lemma_}')"
   ]
  },
  {
   "cell_type": "code",
   "execution_count": 22,
   "id": "3fa61271",
   "metadata": {},
   "outputs": [],
   "source": [
    "doc2 = nlp(u'I saw eighteen mice today!')"
   ]
  },
  {
   "cell_type": "code",
   "execution_count": 23,
   "id": "e5901311",
   "metadata": {},
   "outputs": [
    {
     "name": "stdout",
     "output_type": "stream",
     "text": [
      "I            PRON   4690420944186131903    I\n",
      "saw          VERB   11925638236994514241   see\n",
      "eighteen     NUM    9609336664675087640    eighteen\n",
      "mice         NOUN   1384165645700560590    mouse\n",
      "today        NOUN   11042482332948150395   today\n",
      "!            PUNCT  17494803046312582752   !\n"
     ]
    }
   ],
   "source": [
    "show_lemmas(doc2)"
   ]
  },
  {
   "cell_type": "code",
   "execution_count": 24,
   "id": "a992caa6",
   "metadata": {},
   "outputs": [],
   "source": [
    "doc3 = nlp(u'I am meeting him tomorrow at the meeting.')"
   ]
  },
  {
   "cell_type": "code",
   "execution_count": 25,
   "id": "5d0b6594",
   "metadata": {},
   "outputs": [
    {
     "name": "stdout",
     "output_type": "stream",
     "text": [
      "I            PRON   4690420944186131903    I\n",
      "am           AUX    10382539506755952630   be\n",
      "meeting      VERB   6880656908171229526    meet\n",
      "him          PRON   1655312771067108281    he\n",
      "tomorrow     NOUN   3573583789758258062    tomorrow\n",
      "at           ADP    11667289587015813222   at\n",
      "the          DET    7425985699627899538    the\n",
      "meeting      NOUN   14798207169164081740   meeting\n",
      ".            PUNCT  12646065887601541794   .\n"
     ]
    }
   ],
   "source": [
    "show_lemmas(doc3)"
   ]
  },
  {
   "cell_type": "code",
   "execution_count": 26,
   "id": "fbb8cc9f",
   "metadata": {},
   "outputs": [],
   "source": [
    "doc4 = nlp(u\"That's an enormous automobile\")"
   ]
  },
  {
   "cell_type": "code",
   "execution_count": 27,
   "id": "36226884",
   "metadata": {},
   "outputs": [
    {
     "name": "stdout",
     "output_type": "stream",
     "text": [
      "That         PRON   4380130941430378203    that\n",
      "'s           AUX    10382539506755952630   be\n",
      "an           DET    15099054000809333061   an\n",
      "enormous     ADJ    17917224542039855524   enormous\n",
      "automobile   NOUN   7211811266693931283    automobile\n"
     ]
    }
   ],
   "source": [
    "show_lemmas(doc4)"
   ]
  },
  {
   "cell_type": "markdown",
   "id": "0aae9d21",
   "metadata": {},
   "source": [
    "# 03.10.2024"
   ]
  },
  {
   "cell_type": "code",
   "execution_count": 28,
   "id": "6e83bf6a",
   "metadata": {},
   "outputs": [],
   "source": [
    "#Stops Words"
   ]
  },
  {
   "cell_type": "code",
   "execution_count": 29,
   "id": "ded6279c",
   "metadata": {},
   "outputs": [],
   "source": [
    "#Words like \"a\" and \"the\" appear so frequently that they don't require tagging as throughly as nouns, verbs and modifiers.\n",
    "#We call these stop words, and they can be filtered from the texf to be processed. Spacy holds a built-in list of some 305 \n",
    "#English stop words."
   ]
  },
  {
   "cell_type": "code",
   "execution_count": 30,
   "id": "0a97b632",
   "metadata": {},
   "outputs": [],
   "source": [
    "#Perform standard imports"
   ]
  },
  {
   "cell_type": "code",
   "execution_count": 31,
   "id": "42c30c62",
   "metadata": {},
   "outputs": [],
   "source": [
    "import spacy"
   ]
  },
  {
   "cell_type": "code",
   "execution_count": 32,
   "id": "38cf7cb5",
   "metadata": {},
   "outputs": [],
   "source": [
    "nlp = spacy.load(\"en_core_web_sm\")"
   ]
  },
  {
   "cell_type": "code",
   "execution_count": 33,
   "id": "837de9d2",
   "metadata": {},
   "outputs": [],
   "source": [
    "#Print the set of Spacy's default stop words (remember that sets are unordered):"
   ]
  },
  {
   "cell_type": "code",
   "execution_count": 34,
   "id": "b9d7a281",
   "metadata": {},
   "outputs": [
    {
     "name": "stdout",
     "output_type": "stream",
     "text": [
      "{'alone', 'within', 'it', 'least', 'over', 'much', 'when', 'how', '’d', 'us', 'empty', 'not', 'therein', 'ten', 'full', 'had', 'please', 'meanwhile', 'each', 'be', 'do', 'herself', 'take', 'again', 'back', 'whither', 'fifteen', 'often', 'others', 'keep', 'then', 'through', 'everything', 'quite', 'too', 'among', 'twelve', 'both', 'of', 'same', 'beyond', 'an', 'throughout', 'hereby', 'else', 'at', 'get', 'bottom', 'one', 'serious', 'until', 'former', 'someone', 'into', 'thence', 'sixty', 'seems', 'beforehand', 'six', 'more', 'who', 'together', 'per', 'whereupon', 'me', 'several', 'side', '’ve', 'n‘t', 'most', 'after', 'anywhere', 'must', 'such', 'are', 'anyhow', 'my', 'few', 'hereafter', 'am', 'will', '‘d', 'have', 'some', 'here', 'why', 'those', 'own', 'himself', 'around', 'we', 'thereafter', 'forty', 'whence', 'their', 'above', 'enough', 'whereby', 'while', 'been', 'her', 'n’t', 'via', 'to', 'herein', 'eleven', 'may', 'that', 'therefore', 'yourself', 'can', 'he', '‘ll', 'top', 're', 'amount', 'because', 'nine', 'formerly', 'name', 'always', 'were', 'regarding', 'next', 'become', 'toward', 'whereafter', 'three', 'became', 'did', 'otherwise', 'although', 'amongst', 'and', 'our', 'seem', 'you', 'just', 'onto', '‘ve', 'with', 'mostly', 'or', 'done', 'seeming', 'your', 'front', 'during', 'many', 'however', 'move', 'part', 'is', 'itself', 'beside', 'no', 'see', 'whether', 'unless', 'whereas', 'between', 'ours', 'give', 'used', 'less', 'them', 'what', 'due', 'cannot', 'against', 'except', 'yourselves', 'where', 'under', \"'re\", 'last', 'put', 'nothing', 'also', \"'m\", 'say', '‘s', 'all', 'hence', 'somewhere', 'almost', 'whose', 'its', 'other', 'show', 'him', 'none', 'namely', 'already', 'nor', 'in', 'latterly', 'these', 'well', 'besides', 'but', '‘re', 'fifty', \"'ll\", 'twenty', 'before', 'somehow', 'sometimes', 'doing', 'two', 'i', 'neither', 'whatever', 'does', 'for', 'hereupon', 'so', 'five', 'up', 'really', 'though', 'off', 'rather', 'could', 'hundred', 'thus', 'every', 'wherever', 'across', 'something', 'becoming', 'this', 'wherein', 'either', 'behind', 'his', 'the', 'down', 'nobody', 'which', 'still', 'anyone', 'now', 'any', 'made', 'myself', 'a', 'hers', 'thereby', 'would', 'mine', '‘m', \"'ve\", \"'d\", 'there', 'noone', 'elsewhere', 'sometime', 'whole', 'moreover', 'whenever', 'by', '’ll', 'if', 'ourselves', 'than', 'another', 'very', '’re', 'first', 'they', 'whom', 'go', 'as', 'make', 'about', 'even', 'ca', 'from', 'becomes', 'being', 'on', 'upon', 'perhaps', 'whoever', 'along', 'afterwards', 'ever', 'everyone', 'towards', 'four', 'anyway', 'anything', 'has', 'using', 'was', 'indeed', '’m', 'everywhere', 'should', 'nevertheless', 'eight', 'thru', 'themselves', 'various', \"'s\", 'without', 'nowhere', 'once', 'only', 'seemed', \"n't\", '’s', 'further', 'she', 'third', 'yours', 'never', 'call', 'since', 'latter', 'yet', 'thereupon', 'below', 'might', 'out'}\n"
     ]
    }
   ],
   "source": [
    "print(nlp.Defaults.stop_words)"
   ]
  },
  {
   "cell_type": "code",
   "execution_count": 35,
   "id": "0bb05a6f",
   "metadata": {},
   "outputs": [
    {
     "data": {
      "text/plain": [
       "326"
      ]
     },
     "execution_count": 35,
     "metadata": {},
     "output_type": "execute_result"
    }
   ],
   "source": [
    "len(nlp.Defaults.stop_words)"
   ]
  },
  {
   "cell_type": "code",
   "execution_count": 36,
   "id": "aa3792c1",
   "metadata": {},
   "outputs": [],
   "source": [
    "#To see if a word is a stop word"
   ]
  },
  {
   "cell_type": "code",
   "execution_count": 37,
   "id": "99897df1",
   "metadata": {},
   "outputs": [
    {
     "data": {
      "text/plain": [
       "True"
      ]
     },
     "execution_count": 37,
     "metadata": {},
     "output_type": "execute_result"
    }
   ],
   "source": [
    "nlp.vocab['myself'].is_stop"
   ]
  },
  {
   "cell_type": "code",
   "execution_count": 38,
   "id": "b91581e7",
   "metadata": {},
   "outputs": [
    {
     "data": {
      "text/plain": [
       "True"
      ]
     },
     "execution_count": 38,
     "metadata": {},
     "output_type": "execute_result"
    }
   ],
   "source": [
    "nlp.vocab['latter'].is_stop"
   ]
  },
  {
   "cell_type": "code",
   "execution_count": 41,
   "id": "9585372b",
   "metadata": {},
   "outputs": [
    {
     "data": {
      "text/plain": [
       "False"
      ]
     },
     "execution_count": 41,
     "metadata": {},
     "output_type": "execute_result"
    }
   ],
   "source": [
    "nlp.vocab['mystery'].is_stop"
   ]
  },
  {
   "cell_type": "code",
   "execution_count": 40,
   "id": "1404e71d",
   "metadata": {},
   "outputs": [
    {
     "data": {
      "text/plain": [
       "False"
      ]
     },
     "execution_count": 40,
     "metadata": {},
     "output_type": "execute_result"
    }
   ],
   "source": [
    "nlp.vocab['btw'].is_stop"
   ]
  },
  {
   "cell_type": "code",
   "execution_count": 44,
   "id": "09ef108d",
   "metadata": {},
   "outputs": [],
   "source": [
    "nlp.Defaults.stop_words.add('btw')"
   ]
  },
  {
   "cell_type": "code",
   "execution_count": 45,
   "id": "24d8aa0f",
   "metadata": {},
   "outputs": [],
   "source": [
    "nlp.vocab['btw'].is_stop=True"
   ]
  },
  {
   "cell_type": "code",
   "execution_count": 46,
   "id": "86afa113",
   "metadata": {},
   "outputs": [
    {
     "data": {
      "text/plain": [
       "327"
      ]
     },
     "execution_count": 46,
     "metadata": {},
     "output_type": "execute_result"
    }
   ],
   "source": [
    "len(nlp.Defaults.stop_words)"
   ]
  },
  {
   "cell_type": "code",
   "execution_count": 47,
   "id": "dfd86091",
   "metadata": {},
   "outputs": [
    {
     "data": {
      "text/plain": [
       "True"
      ]
     },
     "execution_count": 47,
     "metadata": {},
     "output_type": "execute_result"
    }
   ],
   "source": [
    "nlp.vocab['btw'].is_stop"
   ]
  },
  {
   "cell_type": "code",
   "execution_count": 48,
   "id": "c1ac3bbc",
   "metadata": {},
   "outputs": [],
   "source": [
    "#To remove a stop word"
   ]
  },
  {
   "cell_type": "code",
   "execution_count": 49,
   "id": "d24d9305",
   "metadata": {},
   "outputs": [],
   "source": [
    "#Remove the word from the set of words"
   ]
  },
  {
   "cell_type": "code",
   "execution_count": 51,
   "id": "c8a6ff9a",
   "metadata": {},
   "outputs": [],
   "source": [
    "nlp.Defaults.stop_words.remove('btw')"
   ]
  },
  {
   "cell_type": "code",
   "execution_count": 54,
   "id": "1683329b",
   "metadata": {},
   "outputs": [],
   "source": [
    "nlp.vocab['btw'].is_stop=False"
   ]
  },
  {
   "cell_type": "code",
   "execution_count": 55,
   "id": "cb900980",
   "metadata": {},
   "outputs": [
    {
     "data": {
      "text/plain": [
       "326"
      ]
     },
     "execution_count": 55,
     "metadata": {},
     "output_type": "execute_result"
    }
   ],
   "source": [
    "len(nlp.Defaults.stop_words)"
   ]
  },
  {
   "cell_type": "code",
   "execution_count": 56,
   "id": "a7d03732",
   "metadata": {},
   "outputs": [
    {
     "data": {
      "text/plain": [
       "False"
      ]
     },
     "execution_count": 56,
     "metadata": {},
     "output_type": "execute_result"
    }
   ],
   "source": [
    "nlp.vocab['btw'].is_stop"
   ]
  },
  {
   "cell_type": "code",
   "execution_count": null,
   "id": "c37ac503",
   "metadata": {},
   "outputs": [],
   "source": []
  }
 ],
 "metadata": {
  "kernelspec": {
   "display_name": "Python 3 (ipykernel)",
   "language": "python",
   "name": "python3"
  },
  "language_info": {
   "codemirror_mode": {
    "name": "ipython",
    "version": 3
   },
   "file_extension": ".py",
   "mimetype": "text/x-python",
   "name": "python",
   "nbconvert_exporter": "python",
   "pygments_lexer": "ipython3",
   "version": "3.11.4"
  }
 },
 "nbformat": 4,
 "nbformat_minor": 5
}
